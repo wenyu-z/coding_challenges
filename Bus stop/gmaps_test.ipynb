{
 "cells": [
  {
   "cell_type": "code",
   "execution_count": 1,
   "metadata": {},
   "outputs": [
    {
     "name": "stdout",
     "output_type": "stream",
     "text": [
      "Hello World\n"
     ]
    },
    {
     "data": {
      "application/vnd.jupyter.widget-view+json": {
       "model_id": "e740fc397bbb48a5a0e7a9b2f6922191"
      }
     },
     "metadata": {},
     "output_type": "display_data"
    }
   ],
   "source": [
    "print 'Hello World'\n",
    "\n",
    "import gmaps\n",
    "gmaps.configure(api_key = \"key at https://console.cloud.google.com/apis/dashboard\")\n",
    "m = gmaps.Map()\n",
    "\n",
    "layer = gmaps.symbol_layer([(29.753806, -95.605500)], \n",
    "                            fill_color=\"green\", stroke_color=\"green\", scale=2)\n",
    "\n",
    "m.add_layer(layer)\n",
    "\n",
    "m\n"
   ]
  },
  {
   "cell_type": "code",
   "execution_count": null,
   "metadata": {
    "collapsed": true
   },
   "outputs": [],
   "source": []
  }
 ],
 "metadata": {
  "kernelspec": {
   "display_name": "Python 2",
   "language": "python",
   "name": "python2"
  },
  "language_info": {
   "codemirror_mode": {
    "name": "ipython",
    "version": 2
   },
   "file_extension": ".py",
   "mimetype": "text/x-python",
   "name": "python",
   "nbconvert_exporter": "python",
   "pygments_lexer": "ipython2",
   "version": "2.7.13"
  }
 },
 "nbformat": 4,
 "nbformat_minor": 2
}
